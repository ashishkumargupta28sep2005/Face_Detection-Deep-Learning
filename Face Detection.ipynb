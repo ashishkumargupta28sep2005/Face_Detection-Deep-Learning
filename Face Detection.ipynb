{
 "cells": [
  {
   "cell_type": "code",
   "execution_count": 1,
   "id": "341babcd-9e8e-4dca-a49b-c48211b08bba",
   "metadata": {},
   "outputs": [],
   "source": [
    "import cv2 as cv\n",
    "import matplotlib.pyplot as plt"
   ]
  },
  {
   "cell_type": "code",
   "execution_count": 1,
   "id": "926385e6-7090-442d-b562-1fbf097ad470",
   "metadata": {},
   "outputs": [],
   "source": [
    "import cv2 as cv\n",
    "classifier =cv.CascadeClassifier('haarcascade_frontalface_default.xml')\n",
    "\n",
    "cam=cv.VideoCapture(0)\n",
    "\n",
    "while True:\n",
    "    _,img=cam.read()\n",
    "    img=cv.flip(img,1)\n",
    "\n",
    "    faces=classifier.detectMultiScale(img,1.9,8)\n",
    "    for(x,y,w,h) in faces:\n",
    "        cv.rectangle(img,(x,y),(x+w,y+h),(0,180,0),2)\n",
    "  \n",
    "\n",
    "    cv.imshow('Frame' , img)\n",
    "\n",
    "    if cv.waitKey(1)==27:\n",
    "        cam.release()\n",
    "        break\n",
    "\n",
    "cam.release()\n",
    "cv.destroyAllWindows()"
   ]
  },
  {
   "cell_type": "code",
   "execution_count": null,
   "id": "9666eb4c-e0fb-4bd6-a158-ce90a64a1f63",
   "metadata": {},
   "outputs": [],
   "source": []
  },
  {
   "cell_type": "code",
   "execution_count": null,
   "id": "e38f31a2-5f2d-4fc0-8bf5-e0873112fed8",
   "metadata": {},
   "outputs": [],
   "source": []
  },
  {
   "cell_type": "code",
   "execution_count": null,
   "id": "cf7bb3b6-bbd1-4dec-aa9e-400bec50f405",
   "metadata": {},
   "outputs": [],
   "source": []
  },
  {
   "cell_type": "code",
   "execution_count": null,
   "id": "35aecbee-3795-4fb1-82e4-8a2430b2e55c",
   "metadata": {},
   "outputs": [],
   "source": []
  },
  {
   "cell_type": "code",
   "execution_count": null,
   "id": "a10fc08e-b43f-46c5-8750-b26c78a60af4",
   "metadata": {},
   "outputs": [],
   "source": []
  },
  {
   "cell_type": "code",
   "execution_count": null,
   "id": "8561bb43-8dab-4fe3-b835-8bcd8bc36c58",
   "metadata": {},
   "outputs": [],
   "source": []
  },
  {
   "cell_type": "code",
   "execution_count": null,
   "id": "3495fac0-a1bf-4355-9aea-9b25782daaab",
   "metadata": {},
   "outputs": [],
   "source": []
  }
 ],
 "metadata": {
  "kernelspec": {
   "display_name": "Python 3 (ipykernel)",
   "language": "python",
   "name": "python3"
  },
  "language_info": {
   "codemirror_mode": {
    "name": "ipython",
    "version": 3
   },
   "file_extension": ".py",
   "mimetype": "text/x-python",
   "name": "python",
   "nbconvert_exporter": "python",
   "pygments_lexer": "ipython3",
   "version": "3.12.4"
  }
 },
 "nbformat": 4,
 "nbformat_minor": 5
}
