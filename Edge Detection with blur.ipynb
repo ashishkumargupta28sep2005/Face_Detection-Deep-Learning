{
 "cells": [
  {
   "cell_type": "code",
   "execution_count": 43,
   "id": "655a0ad5-60fb-4744-8b53-012484ce05e3",
   "metadata": {},
   "outputs": [],
   "source": [
    "import cv2 as cv\n",
    "import numpy as np\n",
    "import matplotlib.pyplot as plt"
   ]
  },
  {
   "cell_type": "code",
   "execution_count": 45,
   "id": "4ee712ff-7b4e-49e5-a259-a714c80b2e9c",
   "metadata": {},
   "outputs": [],
   "source": [
    "import cv2 as cv\n",
    "\n",
    "cam = cv.VideoCapture(0)\n",
    "\n",
    "while True:\n",
    "    _, img = cam.read()\n",
    "\n",
    "    img = cv.flip(img, 1)               # Original Frame\n",
    "    blr = cv.blur(img, (5, 5))          # Blur on Original Frame\n",
    "    edg = cv.Canny(img, 0, 50)          # Edge Detection on Original Frame\n",
    "    fin = cv.Canny(blr, 0, 50)          # Edge Detection on Blur Frame\n",
    "\n",
    "    cv.imshow(\"Original\", img)\n",
    "    cv.imshow(\"Blur\", blr)\n",
    "    cv.imshow(\"Edges\", edg)\n",
    "    cv.imshow(\"Final\", fin)\n",
    "\n",
    "    if cv.waitKey(10) == 27:  # Exit on pressing 'ESC' key (27)\n",
    "        cam.release()\n",
    "        break\n",
    "\n",
    "cam.release()\n",
    "cv.destroyAllWindows()"
   ]
  }
 ],
 "metadata": {
  "kernelspec": {
   "display_name": "Python 3 (ipykernel)",
   "language": "python",
   "name": "python3"
  },
  "language_info": {
   "codemirror_mode": {
    "name": "ipython",
    "version": 3
   },
   "file_extension": ".py",
   "mimetype": "text/x-python",
   "name": "python",
   "nbconvert_exporter": "python",
   "pygments_lexer": "ipython3",
   "version": "3.12.4"
  }
 },
 "nbformat": 4,
 "nbformat_minor": 5
}
