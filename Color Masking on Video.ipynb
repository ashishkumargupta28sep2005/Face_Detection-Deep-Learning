{
 "cells": [
  {
   "cell_type": "code",
   "execution_count": 92,
   "id": "51095246-adf8-4a4b-83f7-1c64c1705ae7",
   "metadata": {},
   "outputs": [],
   "source": [
    "import cv2 as cv\n",
    "import numpy as np\n",
    "\n",
    "cam = cv.VideoCapture(0)\n",
    "\n",
    "lower = np.array([0, 0, 0])\n",
    "upper = np.array([60, 60, 60])\n",
    "\n",
    "while True:\n",
    "    _, img = cam.read()\n",
    "\n",
    "    blurred = cv.blur(img, (4,4))\n",
    "\n",
    "    mask = cv.inRange(blurred, lower, upper)\n",
    "    \n",
    "    cv.imshow(\"Frame\", img)\n",
    "    cv.imshow(\"Mask\", mask)\n",
    "\n",
    "    if cv.waitKey(1) == 27:\n",
    "        break\n",
    "\n",
    "cam.release()\n",
    "cv.destroyAllWindows()\n"
   ]
  }
 ],
 "metadata": {
  "kernelspec": {
   "display_name": "Python 3 (ipykernel)",
   "language": "python",
   "name": "python3"
  },
  "language_info": {
   "codemirror_mode": {
    "name": "ipython",
    "version": 3
   },
   "file_extension": ".py",
   "mimetype": "text/x-python",
   "name": "python",
   "nbconvert_exporter": "python",
   "pygments_lexer": "ipython3",
   "version": "3.12.4"
  }
 },
 "nbformat": 4,
 "nbformat_minor": 5
}
