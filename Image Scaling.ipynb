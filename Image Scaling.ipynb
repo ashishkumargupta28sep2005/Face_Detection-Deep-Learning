{
 "cells": [
  {
   "cell_type": "code",
   "execution_count": 1,
   "id": "8ae587dc-d8ce-40e7-818d-3c9f92412b6c",
   "metadata": {},
   "outputs": [],
   "source": [
    "import cv2 as cv\n",
    "import numpy as np"
   ]
  },
  {
   "cell_type": "code",
   "execution_count": 13,
   "id": "a6da2baa-b3cf-4045-b5dd-76e61875fab1",
   "metadata": {},
   "outputs": [],
   "source": [
    "cam = cv.VideoCapture(0)\n",
    "\n",
    "while True:\n",
    "    _, img = cam.read()\n",
    "\n",
    "    img = cv.flip(img, 1)\n",
    "    resized_1 = cv.resize(img, (int(img.shape[1] / 4), int(img.shape[0] / 4)))  # Reduce size to 1/4\n",
    "    resized_2 = cv.resize(resized_1, (img.shape[1], img.shape[0]))  # Resize back to original size\n",
    "\n",
    "    cv.imshow(\"Original\", img)  # Show original frame\n",
    "    cv.imshow(\"Resized\", resized_1)  # Show resized frame\n",
    "    cv.imshow(\"Resized\", resized_2)\n",
    "    \n",
    "    if cv.waitKey(10) == 27:  # Exit when 'Esc' is pressed\n",
    "        break\n",
    "\n",
    "cam.release()\n",
    "cv.destroyAllWindows()\n"
   ]
  }
 ],
 "metadata": {
  "kernelspec": {
   "display_name": "Python 3 (ipykernel)",
   "language": "python",
   "name": "python3"
  },
  "language_info": {
   "codemirror_mode": {
    "name": "ipython",
    "version": 3
   },
   "file_extension": ".py",
   "mimetype": "text/x-python",
   "name": "python",
   "nbconvert_exporter": "python",
   "pygments_lexer": "ipython3",
   "version": "3.12.4"
  }
 },
 "nbformat": 4,
 "nbformat_minor": 5
}
