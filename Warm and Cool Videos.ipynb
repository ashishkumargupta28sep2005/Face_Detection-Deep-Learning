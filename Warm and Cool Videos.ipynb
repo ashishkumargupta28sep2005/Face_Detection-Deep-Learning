{
 "cells": [
  {
   "cell_type": "code",
   "execution_count": 16,
   "id": "736ff031-af40-4eb9-b4bc-5653d459fa88",
   "metadata": {},
   "outputs": [],
   "source": [
    "import cv2 as cv\n",
    "import numpy as np\n",
    "\n",
    "# Define colors\n",
    "yellow = [108, 222, 249]  # Shade for yellow\n",
    "blue = [247, 206, 139]    # Shade for blue\n",
    "\n",
    "# Define frame size\n",
    "height, width = 720, 1280\n",
    "\n",
    "# Creating yellow background\n",
    "yellow_background = np.full((height, width, 3), yellow, dtype=np.uint8)\n",
    "\n",
    "# Creating blue background\n",
    "blue_background = np.full((height, width, 3), blue, dtype=np.uint8)\n",
    "\n",
    "# Open webcam\n",
    "cam = cv.VideoCapture(0)\n",
    "\n",
    "while True:\n",
    "    _, img = cam.read()\n",
    "    if not ret:\n",
    "        break\n",
    "\n",
    "    img = cv.flip(img, 1)  # Flip the frame\n",
    "\n",
    "    # Resize webcam frame to match the background size\n",
    "    img = cv.resize(img, (width, height))\n",
    "\n",
    "    # Merge images using addWeighted\n",
    "    merged_yellow = cv.addWeighted(img, 0.90, yellow_background, 0.10, 0)\n",
    "    merged_blue = cv.addWeighted(img, 0.90, blue_background, 0.10, 0)\n",
    "\n",
    "    # Display windows\n",
    "    cv.imshow(\"Original\", img)\n",
    "    cv.imshow(\"Yellow\", merged_yellow)\n",
    "    cv.imshow(\"Blue\", merged_blue)\n",
    "\n",
    "    # Exit on pressing 'Esc'\n",
    "    if cv.waitKey(1) == 27:\n",
    "        break\n",
    "\n",
    "# Release resources\n",
    "cam.release()\n",
    "cv.destroyAllWindows()\n"
   ]
  },
  {
   "cell_type": "code",
   "execution_count": null,
   "id": "72dab3f6-0868-46d5-92bd-0b67b790e936",
   "metadata": {},
   "outputs": [],
   "source": []
  }
 ],
 "metadata": {
  "kernelspec": {
   "display_name": "Python 3 (ipykernel)",
   "language": "python",
   "name": "python3"
  },
  "language_info": {
   "codemirror_mode": {
    "name": "ipython",
    "version": 3
   },
   "file_extension": ".py",
   "mimetype": "text/x-python",
   "name": "python",
   "nbconvert_exporter": "python",
   "pygments_lexer": "ipython3",
   "version": "3.12.4"
  }
 },
 "nbformat": 4,
 "nbformat_minor": 5
}
