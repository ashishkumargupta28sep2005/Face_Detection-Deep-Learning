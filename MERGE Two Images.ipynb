{
 "cells": [
  {
   "cell_type": "code",
   "execution_count": 3,
   "id": "9b64fe2e-7aba-4612-85c1-4097267f1ed4",
   "metadata": {},
   "outputs": [],
   "source": [
    "import cv2 as cv\n",
    "import numpy as np\n",
    "import matplotlib.pyplot as plt"
   ]
  },
  {
   "cell_type": "code",
   "execution_count": 31,
   "id": "1c7030ad-caf7-42c8-bb4b-2c0f019f6553",
   "metadata": {},
   "outputs": [],
   "source": [
    "def merge(foreground_path, background_path, a, b):\n",
    "    \n",
    "    background = []\n",
    "\n",
    "    img        = cv.imread(foreground_path)\n",
    "    background = cv.imread(background_path)\n",
    "        \n",
    "    background = cv.resize(background, (img.shape[1], img.shape[0]))\n",
    "\n",
    "    final = cv.addWeighted(img, a, background, b , 0)\n",
    "\n",
    "    cv.imshow('Original',img)\n",
    "    cv.waitKey(0)\n",
    "\n",
    "    cv.imshow('Processed',final)\n",
    "    cv.waitKey(0)"
   ]
  },
  {
   "cell_type": "code",
   "execution_count": 35,
   "id": "5223d5ce-e8b4-4fa9-bf1e-f54365c58196",
   "metadata": {},
   "outputs": [],
   "source": [
    "merge('Ashish.jpg', '1.jpg', .5, .5)"
   ]
  },
  {
   "cell_type": "code",
   "execution_count": null,
   "id": "2f42495b-9c0f-4293-a616-587369dba203",
   "metadata": {},
   "outputs": [],
   "source": []
  }
 ],
 "metadata": {
  "kernelspec": {
   "display_name": "Python 3 (ipykernel)",
   "language": "python",
   "name": "python3"
  },
  "language_info": {
   "codemirror_mode": {
    "name": "ipython",
    "version": 3
   },
   "file_extension": ".py",
   "mimetype": "text/x-python",
   "name": "python",
   "nbconvert_exporter": "python",
   "pygments_lexer": "ipython3",
   "version": "3.12.4"
  }
 },
 "nbformat": 4,
 "nbformat_minor": 5
}
