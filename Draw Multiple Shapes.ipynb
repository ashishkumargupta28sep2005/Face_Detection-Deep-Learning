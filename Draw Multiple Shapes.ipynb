{
 "cells": [
  {
   "cell_type": "code",
   "execution_count": 3,
   "id": "48e151f5-0e61-4c8b-9b4f-98dabae45ffc",
   "metadata": {},
   "outputs": [],
   "source": [
    "import cv2 as cv\n",
    "import numpy as np\n",
    "import matplotlib.pyplot as plt"
   ]
  },
  {
   "cell_type": "markdown",
   "id": "f09eecae-96c7-420f-b12f-83fa909b7703",
   "metadata": {},
   "source": [
    "### 1.Drawing Rectangle"
   ]
  },
  {
   "cell_type": "code",
   "execution_count": 41,
   "id": "36a5451a-1530-4984-8a30-c00d037ba4f1",
   "metadata": {},
   "outputs": [],
   "source": [
    "cam=cv.VideoCapture(0)\n",
    "\n",
    "while True:\n",
    "    _, img=cam.read()\n",
    "    img=cv.flip(img,1)\n",
    "    \n",
    "    img=cv.rectangle(img,(200,100), (500,400), (255,0,0), 2)\n",
    "    img=cv.rectangle(img,(195,95), (505,405), (0,255,0), 2)\n",
    "    img=cv.rectangle(img,(190,90), (510,410), (0,0,255), 2)\n",
    "\n",
    "    #Top to Left Corner (left=200,Top200)\n",
    "    #Bottom to Right Corner (Right=400,Bottom=400)\n",
    "    cv.imshow(\"Frame\",img)\n",
    "    \n",
    "    key=cv.waitKey(30)\n",
    "\n",
    "    if(key==27):\n",
    "        cam.release()\n",
    "        break\n",
    "\n",
    "cam.release()\n",
    "cv.destroyAllWindows()"
   ]
  },
  {
   "cell_type": "markdown",
   "id": "14c88438-43ae-42f5-b115-08ecfa362a4b",
   "metadata": {},
   "source": [
    "### 2.Drawing Circel"
   ]
  },
  {
   "cell_type": "code",
   "execution_count": 53,
   "id": "7afee3d8-7ce0-4204-ae02-f044c58e3465",
   "metadata": {},
   "outputs": [],
   "source": [
    "cam=cv.VideoCapture(0)\n",
    "\n",
    "while True:\n",
    "    _, img=cam.read()\n",
    "    img=cv.flip(img,1)\n",
    "\n",
    "    #Circle\n",
    "    img=cv.circle(img,(320,250),400,(255,255,255),200)\n",
    "\n",
    "    cv.imshow(\"Frame\",img)\n",
    "    \n",
    "    key=cv.waitKey(30)\n",
    "\n",
    "    if(key==27):\n",
    "        cam.release()\n",
    "        break\n",
    "\n",
    "cam.release()\n",
    "cv.destroyAllWindows()"
   ]
  },
  {
   "cell_type": "markdown",
   "id": "b421aaa3-75ef-460e-b1dc-1ac02db26495",
   "metadata": {},
   "source": [
    "### Writing Text"
   ]
  },
  {
   "cell_type": "code",
   "execution_count": 79,
   "id": "29201085-8162-49a0-8318-b33f18bbc783",
   "metadata": {},
   "outputs": [],
   "source": [
    "cam=cv.VideoCapture(0)\n",
    "\n",
    "while True:\n",
    "    _, img=cam.read()\n",
    "    img=cv.flip(img,1)\n",
    "\n",
    "\n",
    "    img=cv.putText(img,'Ashish Gupta',(190,50),cv.FONT_HERSHEY_PLAIN,3,(160,67,94),2)\n",
    "    #Circle\n",
    "    #img=cv.circle(img,(320,250),400,(255,255,255),200)\n",
    "\n",
    "    cv.imshow(\"Frame\",img)\n",
    "    \n",
    "    key=cv.waitKey(30)\n",
    "\n",
    "    if(key==27):\n",
    "        cam.release()\n",
    "        break\n",
    "\n",
    "cam.release()\n",
    "cv.destroyAllWindows()"
   ]
  },
  {
   "cell_type": "code",
   "execution_count": 43,
   "id": "15aeb92a-50b5-4cf8-b538-517061259ec9",
   "metadata": {},
   "outputs": [
    {
     "data": {
      "text/plain": [
       "(480, 640, 3)"
      ]
     },
     "execution_count": 43,
     "metadata": {},
     "output_type": "execute_result"
    }
   ],
   "source": [
    "img.shape"
   ]
  },
  {
   "cell_type": "code",
   "execution_count": 45,
   "id": "be5babec-3eab-4dae-8714-f73bd6546204",
   "metadata": {},
   "outputs": [
    {
     "data": {
      "text/plain": [
       "240.0"
      ]
     },
     "execution_count": 45,
     "metadata": {},
     "output_type": "execute_result"
    }
   ],
   "source": [
    "480/2"
   ]
  },
  {
   "cell_type": "code",
   "execution_count": null,
   "id": "e5d0b8ba-50bf-4761-a57b-a326bdda5db5",
   "metadata": {},
   "outputs": [],
   "source": []
  }
 ],
 "metadata": {
  "kernelspec": {
   "display_name": "Python 3 (ipykernel)",
   "language": "python",
   "name": "python3"
  },
  "language_info": {
   "codemirror_mode": {
    "name": "ipython",
    "version": 3
   },
   "file_extension": ".py",
   "mimetype": "text/x-python",
   "name": "python",
   "nbconvert_exporter": "python",
   "pygments_lexer": "ipython3",
   "version": "3.12.4"
  }
 },
 "nbformat": 4,
 "nbformat_minor": 5
}
