{
 "cells": [
  {
   "cell_type": "code",
   "execution_count": 16,
   "id": "78581228-e6f9-4411-ade4-81e41af037c0",
   "metadata": {},
   "outputs": [],
   "source": [
    "import cv2  as cv\n",
    "import numpy as np\n",
    "import matplotlib.pyplot as plt"
   ]
  },
  {
   "cell_type": "markdown",
   "id": "a2996175-91e9-4f27-98a9-7218b14dafda",
   "metadata": {},
   "source": [
    "### Realtime Blur"
   ]
  },
  {
   "cell_type": "code",
   "execution_count": 7,
   "id": "be92bdea-4e7b-4826-8d71-b7f44fdc055d",
   "metadata": {},
   "outputs": [],
   "source": [
    "import cv2 as cv\n",
    "\n",
    "cam = cv.VideoCapture(0) \n",
    "while True:\n",
    "    _, img = cam.read()\n",
    "    \n",
    "    img = cv.flip(img, 1)\n",
    "\n",
    "    blr1=cv.blur(img,(8,8))\n",
    "    blr2=cv.blur(img,(16,16))\n",
    "    blr3=cv.blur(img,(32,32))\n",
    "    \n",
    "    \n",
    "    cv.imshow(\"frame\", img)\n",
    "    cv.imshow(\"blur1\", blr1)\n",
    "    cv.imshow(\"blur2\", blr2)\n",
    "    cv.imshow(\"blur3\", blr3)\n",
    "    \n",
    "    if cv.waitKey(10) == 27:\n",
    "        break\n",
    "\n",
    "cam.release()\n",
    "cv.destroyAllWindows()\n"
   ]
  },
  {
   "cell_type": "code",
   "execution_count": null,
   "id": "40f85469-b2f1-420f-9104-b45d042cf657",
   "metadata": {},
   "outputs": [],
   "source": []
  }
 ],
 "metadata": {
  "kernelspec": {
   "display_name": "Python 3 (ipykernel)",
   "language": "python",
   "name": "python3"
  },
  "language_info": {
   "codemirror_mode": {
    "name": "ipython",
    "version": 3
   },
   "file_extension": ".py",
   "mimetype": "text/x-python",
   "name": "python",
   "nbconvert_exporter": "python",
   "pygments_lexer": "ipython3",
   "version": "3.12.4"
  }
 },
 "nbformat": 4,
 "nbformat_minor": 5
}
