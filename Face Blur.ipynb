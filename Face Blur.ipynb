{
 "cells": [
  {
   "cell_type": "code",
   "execution_count": 3,
   "id": "43fa6aef-428b-46b4-af54-2a8213631c24",
   "metadata": {},
   "outputs": [],
   "source": [
    "import cv2 as cv"
   ]
  },
  {
   "cell_type": "code",
   "execution_count": 9,
   "id": "1cca298f-6ad1-47e2-b7be-2305ff74f923",
   "metadata": {},
   "outputs": [],
   "source": [
    "classifier = cv.CascadeClassifier('haarcascade_frontalface_default.xml')\n",
    "\n",
    "cam = cv.VideoCapture(0)\n",
    "while True:\n",
    "    \n",
    "    _, img = cam.read()\n",
    "    img = cv.flip(img,1)\n",
    "    faces = classifier.detectMultiScale(img, 1.1, 5)\n",
    "    \n",
    "    for f in faces:\n",
    "        if f[-1] == max(faces[:,-1]):\n",
    "            break\n",
    "\n",
    "    if (len(faces) >= 1):\n",
    "        x = f[0] \n",
    "        y = f[1] \n",
    "        w = f[2]\n",
    "        h = f[3]\n",
    "\n",
    "        face = img[y:y+h, x:x+w]   \n",
    "        face = cv.blur(face, (32,32))    \n",
    "        img[y:y+h, x:x+w] = face        \n",
    "        cv.imshow('Face'   , face)\n",
    "        \n",
    "    cv.imshow('Frame'  , img )\n",
    "    if cv.waitKey(1) == 27:\n",
    "        cam.release()\n",
    "        break\n",
    "cam.release()\n",
    "cv.destroyAllWindows()"
   ]
  },
  {
   "cell_type": "code",
   "execution_count": null,
   "id": "282d4a21-9c73-4408-b7c6-54d661517dd2",
   "metadata": {},
   "outputs": [],
   "source": []
  }
 ],
 "metadata": {
  "kernelspec": {
   "display_name": "Python 3 (ipykernel)",
   "language": "python",
   "name": "python3"
  },
  "language_info": {
   "codemirror_mode": {
    "name": "ipython",
    "version": 3
   },
   "file_extension": ".py",
   "mimetype": "text/x-python",
   "name": "python",
   "nbconvert_exporter": "python",
   "pygments_lexer": "ipython3",
   "version": "3.12.4"
  }
 },
 "nbformat": 4,
 "nbformat_minor": 5
}
