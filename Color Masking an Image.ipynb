{
 "cells": [
  {
   "cell_type": "code",
   "execution_count": 1,
   "id": "e1948380-ec30-4c2e-b458-41af1ccef17a",
   "metadata": {},
   "outputs": [],
   "source": [
    "import cv2 as cv\n",
    "import numpy as np"
   ]
  },
  {
   "cell_type": "code",
   "execution_count": 27,
   "id": "4c04b8f5-5614-4526-8afc-ef00cffd3918",
   "metadata": {},
   "outputs": [],
   "source": [
    "lower = np.array([0,0,0])\n",
    "upper = np.array([100,100,100])\n",
    "img = cv.imread('Ashish.jpg')\n",
    "\n",
    "blured = cv.blur(img, (8,8))\n",
    "mask = cv.inRange(blured, lower, upper)\n",
    "\n",
    "img=cv.resize(img,(400,400))\n",
    "mask=cv.resize(mask,(400,400))\n",
    "\n",
    "cv.imshow(\"Frame-1\", img)\n",
    "cv.imshow(\"Mask-1\", mask)\n",
    "\n",
    "cv.waitKey(0)\n",
    "\n",
    "cv.destroyAllWindows()"
   ]
  },
  {
   "cell_type": "code",
   "execution_count": null,
   "id": "4ac0b1f9-d35b-47bf-b91f-2de233e71ee4",
   "metadata": {},
   "outputs": [],
   "source": []
  }
 ],
 "metadata": {
  "kernelspec": {
   "display_name": "Python 3 (ipykernel)",
   "language": "python",
   "name": "python3"
  },
  "language_info": {
   "codemirror_mode": {
    "name": "ipython",
    "version": 3
   },
   "file_extension": ".py",
   "mimetype": "text/x-python",
   "name": "python",
   "nbconvert_exporter": "python",
   "pygments_lexer": "ipython3",
   "version": "3.12.4"
  }
 },
 "nbformat": 4,
 "nbformat_minor": 5
}
