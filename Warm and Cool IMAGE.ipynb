{
 "cells": [
  {
   "cell_type": "code",
   "execution_count": 9,
   "id": "a7579162-079a-406e-9925-238f4a68062a",
   "metadata": {},
   "outputs": [],
   "source": [
    "import cv2 as cv\n",
    "import numpy as np\n",
    "import matplotlib.pyplot as plt\n",
    "\n",
    "blue=[247,206,139]\n",
    "\n",
    "white=[0, 255, 0]"
   ]
  },
  {
   "cell_type": "markdown",
   "id": "b67db79d-a767-4357-8771-0b4764eeeaef",
   "metadata": {},
   "source": [
    "### Merging the Images"
   ]
  },
  {
   "cell_type": "code",
   "execution_count": 13,
   "id": "4cd4da68-1478-4585-9b1d-120f4d5251d1",
   "metadata": {},
   "outputs": [
    {
     "data": {
      "text/plain": [
       "-1"
      ]
     },
     "execution_count": 13,
     "metadata": {},
     "output_type": "execute_result"
    }
   ],
   "source": [
    "background = []\n",
    "\n",
    "img=cv.imread('Ashish.jpg')\n",
    "\n",
    "cols=img.shape[1]\n",
    "rows=img.shape[0]\n",
    "\n",
    "for i in range(rows):\n",
    "    temp=[]\n",
    "    for j in range(cols):\n",
    "        temp.append(blue)\n",
    "    background.append(temp)\n",
    "\n",
    "background=np.array(background).astype(np.uint8)\n",
    "\n",
    "final = cv.addWeighted(img, .8, background, .2, 0)\n",
    "\n",
    "cv.imshow('Final',final)\n",
    "\n",
    "cv.waitKey(0)"
   ]
  },
  {
   "cell_type": "code",
   "execution_count": 38,
   "id": "65f35914-5b74-4a48-8d2a-85154dbdc05b",
   "metadata": {},
   "outputs": [],
   "source": [
    "img=cv.imread('Ashish.jpg')"
   ]
  },
  {
   "cell_type": "code",
   "execution_count": 40,
   "id": "622d6803-8432-40b1-a216-89cc30941470",
   "metadata": {},
   "outputs": [
    {
     "data": {
      "text/plain": [
       "(816, 368, 3)"
      ]
     },
     "execution_count": 40,
     "metadata": {},
     "output_type": "execute_result"
    }
   ],
   "source": [
    "img.shape"
   ]
  },
  {
   "cell_type": "code",
   "execution_count": 42,
   "id": "bd5a437f-4cdd-4255-9442-99ab28aaa368",
   "metadata": {},
   "outputs": [
    {
     "data": {
      "text/plain": [
       "(816, 368, 3)"
      ]
     },
     "execution_count": 42,
     "metadata": {},
     "output_type": "execute_result"
    }
   ],
   "source": [
    "background.shape"
   ]
  },
  {
   "cell_type": "markdown",
   "id": "4bae4b46-d601-406d-9c6d-3e73a4c883ea",
   "metadata": {},
   "source": [
    "### Adding Tone"
   ]
  },
  {
   "cell_type": "code",
   "execution_count": 22,
   "id": "79aa21e2-64ca-4b2f-8ee1-e98ee7cd7ffb",
   "metadata": {},
   "outputs": [],
   "source": [
    "def add_tone(img_path, color, a, b):\n",
    "    background = []\n",
    "    img = cv.imread(img_path)\n",
    "    cols = img.shape[1]\n",
    "    rows = img.shape[0]\n",
    "    for i in range(rows):\n",
    "        temp = []\n",
    "        for j in range(cols):\n",
    "            temp.append(color)\n",
    "        background.append(temp)\n",
    "    background = np.array(background).astype(np.uint8)\n",
    "    final = cv.addWeighted(img, a , background, b , 0)\n",
    "    cv.imshow('Original',img)\n",
    "    cv.waitKey(0)\n",
    "    cv.imshow('Processed',final)\n",
    "    cv.waitKey(0)"
   ]
  },
  {
   "cell_type": "code",
   "execution_count": 24,
   "id": "2db95f6c-78d4-44aa-b515-7cfe16faf3bb",
   "metadata": {},
   "outputs": [],
   "source": [
    "add_tone('Ashish.jpg',[96,189,244],.9,.1)"
   ]
  }
 ],
 "metadata": {
  "kernelspec": {
   "display_name": "Python 3 (ipykernel)",
   "language": "python",
   "name": "python3"
  },
  "language_info": {
   "codemirror_mode": {
    "name": "ipython",
    "version": 3
   },
   "file_extension": ".py",
   "mimetype": "text/x-python",
   "name": "python",
   "nbconvert_exporter": "python",
   "pygments_lexer": "ipython3",
   "version": "3.12.4"
  }
 },
 "nbformat": 4,
 "nbformat_minor": 5
}
