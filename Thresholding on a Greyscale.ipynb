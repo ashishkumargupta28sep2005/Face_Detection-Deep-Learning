{
 "cells": [
  {
   "cell_type": "code",
   "execution_count": 3,
   "id": "d97f3527-365d-4e6b-b91e-95810435185d",
   "metadata": {},
   "outputs": [],
   "source": [
    "import cv2 as cv\n",
    "import numpy as np\n",
    "import matplotlib.pyplot as plt"
   ]
  },
  {
   "cell_type": "code",
   "execution_count": 45,
   "id": "e3353050-7c4b-4cd5-87b7-91d5d738cfe6",
   "metadata": {},
   "outputs": [],
   "source": [
    "cam = cv.VideoCapture(0)\n",
    "while True:\n",
    "    _,img=cam.read()\n",
    "    img=cv.flip(img,2)\n",
    "\n",
    "    img=cv.resize(img,(int(480), int(640/2)))\n",
    "    gray=cv.cvtColor(img,cv.COLOR_BGR2GRAY)\n",
    "\n",
    "    gray_thr_1=gray.copy()\n",
    "    gray_thr_1[gray_thr_1 > 200]=30\n",
    "\n",
    "    gray_thr_2=gray.copy()\n",
    "    gray_thr_2[gray_thr_2 < 200]=100\n",
    "\n",
    "    \n",
    "    cv.imshow('original',img)\n",
    "    cv.imshow('gray' ,gray)\n",
    "    cv.imshow('gray_thr1',gray_thr_1)\n",
    "    cv.imshow('gray_thr12',gray_thr_2)\n",
    "    \n",
    "    if cv.waitKey(1)==27:\n",
    "        cam.release()\n",
    "        break\n",
    "\n",
    "cam.release()\n",
    "cv.destroyAllWindows()"
   ]
  },
  {
   "cell_type": "code",
   "execution_count": 9,
   "id": "537d0fff-3526-4cd9-8cb3-fc8e0d62e4d3",
   "metadata": {},
   "outputs": [
    {
     "data": {
      "text/plain": [
       "(480, 640, 3)"
      ]
     },
     "execution_count": 9,
     "metadata": {},
     "output_type": "execute_result"
    }
   ],
   "source": [
    "img.shape"
   ]
  },
  {
   "cell_type": "code",
   "execution_count": null,
   "id": "969189c1-c8fc-4612-ba5b-9ed26a157211",
   "metadata": {},
   "outputs": [],
   "source": []
  },
  {
   "cell_type": "code",
   "execution_count": null,
   "id": "7030ac9b-7e14-4979-b90e-fe41c1d524c0",
   "metadata": {},
   "outputs": [],
   "source": []
  },
  {
   "cell_type": "code",
   "execution_count": null,
   "id": "b7d8868e-ec32-4eeb-8401-25edde83c433",
   "metadata": {},
   "outputs": [],
   "source": []
  },
  {
   "cell_type": "code",
   "execution_count": null,
   "id": "12ab6905-76d6-462c-b3a5-6c993e4050a7",
   "metadata": {},
   "outputs": [],
   "source": []
  },
  {
   "cell_type": "code",
   "execution_count": null,
   "id": "a8523bc3-037b-416a-8d2f-26a97adc03ad",
   "metadata": {},
   "outputs": [],
   "source": []
  },
  {
   "cell_type": "code",
   "execution_count": null,
   "id": "733a468b-c068-457f-8710-d01d54036eb4",
   "metadata": {},
   "outputs": [],
   "source": []
  }
 ],
 "metadata": {
  "kernelspec": {
   "display_name": "Python 3 (ipykernel)",
   "language": "python",
   "name": "python3"
  },
  "language_info": {
   "codemirror_mode": {
    "name": "ipython",
    "version": 3
   },
   "file_extension": ".py",
   "mimetype": "text/x-python",
   "name": "python",
   "nbconvert_exporter": "python",
   "pygments_lexer": "ipython3",
   "version": "3.12.4"
  }
 },
 "nbformat": 4,
 "nbformat_minor": 5
}
