{
 "cells": [
  {
   "cell_type": "code",
   "execution_count": 1,
   "id": "9e3c5401-1cc2-4f2b-ba52-2fcee7310e02",
   "metadata": {},
   "outputs": [],
   "source": [
    "import cv2 as cv\n",
    "\n",
    "cam = cv.VideoCapture(0)  # Open webcam\n",
    "\n",
    "while True:\n",
    "    _, img = cam.read()  # Capture frame\n",
    "    \n",
    "    img = cv.flip(img, 1)  # Flip image horizontally\n",
    "    \n",
    "    gray = cv.cvtColor(img, cv.COLOR_BGR2GRAY)  # Convert to grayscale\n",
    "    hsv  = cv.cvtColor(img, cv.COLOR_BGR2HSV)   # Convert to HSV\n",
    "    \n",
    "    cv.imshow(\"Frame\", img)# Show video feed\n",
    "    cv.imshow(\"gray\",gray)\n",
    "    cv.imshow(\"hsv\",hsv)\n",
    "    \n",
    "    key = cv.waitKey(20) & 0xFF  # Capture key press\n",
    "    \n",
    "    if key == 13:  # If 'Enter' key is pressed\n",
    "        cv.imwrite('Selfie.png', img)        # Save original image\n",
    "        cv.imwrite('Selfie_Gray.png', gray)  # Save grayscale image\n",
    "        cv.imwrite('Selfie_HSV.png', hsv)    # Save HSV image\n",
    "        \n",
    "        cam.release()  # Release camera\n",
    "        cv.destroyAllWindows()  # Close window\n",
    "        break  # Exit loop\n"
   ]
  }
 ],
 "metadata": {
  "kernelspec": {
   "display_name": "Python 3 (ipykernel)",
   "language": "python",
   "name": "python3"
  },
  "language_info": {
   "codemirror_mode": {
    "name": "ipython",
    "version": 3
   },
   "file_extension": ".py",
   "mimetype": "text/x-python",
   "name": "python",
   "nbconvert_exporter": "python",
   "pygments_lexer": "ipython3",
   "version": "3.12.4"
  }
 },
 "nbformat": 4,
 "nbformat_minor": 5
}
