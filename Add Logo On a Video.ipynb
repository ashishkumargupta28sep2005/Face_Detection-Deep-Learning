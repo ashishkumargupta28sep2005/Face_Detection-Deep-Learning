{
 "cells": [
  {
   "cell_type": "code",
   "execution_count": 20,
   "id": "df9f9d77-e76d-4a68-8278-10e614e33f1a",
   "metadata": {},
   "outputs": [],
   "source": [
    "import cv2 as cv\n",
    "import numpy as np\n",
    " \n",
    "cam = cv.VideoCapture(0)\n",
    "\n",
    "logo = cv.imread('RTU.png')\n",
    "logo = cv.resize(logo, (50,50))\n",
    "\n",
    "while True:\n",
    "    \n",
    "    _, img = cam.read()\n",
    "\n",
    "    img = cv.flip(img,1)\n",
    "    \n",
    "    img[ 5 : 55 , 585 : 635 ] = logo \n",
    "\n",
    "    cv.imshow('Frame'  , img)\n",
    "     \n",
    "    if cv.waitKey(1) == 27:\n",
    "        cam.release()\n",
    "        break\n",
    "\n",
    "cam.release()\n",
    "cv.destroyAllWindows()"
   ]
  },
  {
   "cell_type": "code",
   "execution_count": null,
   "id": "ed826c01-3eef-427a-a662-4a7675dbfbb4",
   "metadata": {},
   "outputs": [],
   "source": [
    "import cv2 as cv\n",
    "import numpy as np\n",
    " \n",
    "cam = cv.VideoCapture(0)\n",
    "\n",
    "logo = cv.imread('RTU.png')\n",
    "\n",
    "while True:\n",
    "    \n",
    "    _, img = cam.read()\n",
    "\n",
    "    img = cv.flip(img,1)\n",
    "    \n",
    "    ht = img.shape[0]\n",
    "    wt = img.shape[1]\n",
    "    \n",
    "#    Top Right\n",
    "    margin_top  = int(ht/100)             # 1%\n",
    "    logo_height = int((ht/100)*7)         # 7%\n",
    "    margin_left = int((wt/100)*95.5)      # 95.5%\n",
    "    logo_width  = int((wt/100)*4)         # 4%\n",
    "    logo = cv.resize(logo, (logo_width, logo_width))\n",
    "    img[ margin_top : logo_width + margin_top , margin_left : margin_left + logo_width ] = logo\n",
    "    \n",
    "#   Top Left\n",
    "    margin_top  = int(ht/100)             # 1%\n",
    "    logo_height = int((ht/100)*7)         # 7%\n",
    "    margin_left = int((wt/100)*.5)        # .5%\n",
    "    logo_width  = int((wt/100)*4)         # 4%\n",
    "    logo = cv.resize(logo, (logo_width, logo_width))\n",
    "    img[ margin_top : logo_width + margin_top , margin_left : margin_left + logo_width ] = logo\n",
    "    \n",
    "#   Bottom Left\n",
    "    margin_top  = int((ht/100)*92)        # 92%\n",
    "    logo_height = int((ht/100)*7)         # 7%\n",
    "    margin_left = int((wt/100)*.5)        # .5%\n",
    "    logo_width  = int((wt/100)*4)         # 4%\n",
    "    logo = cv.resize(logo, (logo_width, logo_width))\n",
    "    img[ margin_top : logo_width + margin_top , margin_left : margin_left + logo_width ] = logo\n",
    "\n",
    "#   Bottom Right\n",
    "    margin_top  = int((ht/100)*92)        # 92%\n",
    "    logo_height = int((ht/100)*7)         # 7%\n",
    "    margin_left = int((wt/100)*.5)        # .5%\n",
    "    logo_width  = int((wt/100)*4)         # 4%\n",
    "    logo = cv.resize(logo, (logo_width, logo_width))\n",
    "    img[ margin_top : logo_width + margin_top , margin_left : margin_left + logo_width ] = logo\n",
    "    \n",
    "    \n",
    "    cv.imshow('Frame'  , img)\n",
    "     \n",
    "    if cv.waitKey(1) == 27:\n",
    "        cam.release()\n",
    "        break\n",
    "\n",
    "cam.release()\n",
    "cv.destroyAllWindows()"
   ]
  },
  {
   "cell_type": "code",
   "execution_count": 12,
   "id": "bbff40aa-3f67-4293-a4dc-22f5914cca34",
   "metadata": {},
   "outputs": [
    {
     "data": {
      "text/plain": [
       "(480, 640, 3)"
      ]
     },
     "execution_count": 12,
     "metadata": {},
     "output_type": "execute_result"
    }
   ],
   "source": [
    "img.shape"
   ]
  },
  {
   "cell_type": "code",
   "execution_count": 16,
   "id": "cc665de3-83d2-437c-8443-cf219bcfdc3b",
   "metadata": {},
   "outputs": [
    {
     "data": {
      "text/plain": [
       "(50, 50, 3)"
      ]
     },
     "execution_count": 16,
     "metadata": {},
     "output_type": "execute_result"
    }
   ],
   "source": [
    "logo.shape"
   ]
  },
  {
   "cell_type": "code",
   "execution_count": 38,
   "id": "a7beb4a5-d3fe-4021-be25-5c8cc51b70da",
   "metadata": {},
   "outputs": [
    {
     "ename": "SyntaxError",
     "evalue": "invalid syntax (1788123622.py, line 1)",
     "output_type": "error",
     "traceback": [
      "\u001b[1;36m  Cell \u001b[1;32mIn[38], line 1\u001b[1;36m\u001b[0m\n\u001b[1;33m    Height (1%=Margin | 7%=logo | 92%=Vacant)\u001b[0m\n\u001b[1;37m             ^\u001b[0m\n\u001b[1;31mSyntaxError\u001b[0m\u001b[1;31m:\u001b[0m invalid syntax\n"
     ]
    }
   ],
   "source": [
    "Height (1%=Margin | 7%=logo | 92%=Vacant)\n",
    "Weight (.8%=Margin | 7.2%=logo | 92%=Vacant"
   ]
  },
  {
   "cell_type": "code",
   "execution_count": 42,
   "id": "ceb0d187-6b41-4ab4-a0e0-b3c0d05bd7c9",
   "metadata": {},
   "outputs": [
    {
     "data": {
      "text/plain": [
       "7.8125"
      ]
     },
     "execution_count": 42,
     "metadata": {},
     "output_type": "execute_result"
    }
   ],
   "source": [
    "50/6.4"
   ]
  },
  {
   "cell_type": "code",
   "execution_count": null,
   "id": "efaeda51-d47a-4930-83e5-3662f303d22f",
   "metadata": {},
   "outputs": [],
   "source": []
  }
 ],
 "metadata": {
  "kernelspec": {
   "display_name": "Python 3 (ipykernel)",
   "language": "python",
   "name": "python3"
  },
  "language_info": {
   "codemirror_mode": {
    "name": "ipython",
    "version": 3
   },
   "file_extension": ".py",
   "mimetype": "text/x-python",
   "name": "python",
   "nbconvert_exporter": "python",
   "pygments_lexer": "ipython3",
   "version": "3.12.4"
  }
 },
 "nbformat": 4,
 "nbformat_minor": 5
}
