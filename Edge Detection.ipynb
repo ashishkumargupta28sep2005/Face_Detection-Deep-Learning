{
 "cells": [
  {
   "cell_type": "code",
   "execution_count": 1,
   "id": "570a6809-42bf-4b47-9ab4-f8ef0737a0e1",
   "metadata": {},
   "outputs": [],
   "source": [
    "import cv2 as cv\n",
    "import numpy as np\n",
    "import matplotlib.pyplot as plt\n"
   ]
  },
  {
   "cell_type": "markdown",
   "id": "8f0a8ac4-bb1a-449f-9f6b-527a3eec7f7b",
   "metadata": {},
   "source": [
    "### Edge Detection"
   ]
  },
  {
   "cell_type": "code",
   "execution_count": 20,
   "id": "8a6923e8-c4b9-4282-924f-13f3fbf26755",
   "metadata": {},
   "outputs": [],
   "source": [
    "cam= cv.VideoCapture(0)\n",
    "while True:\n",
    "    _,img=cam.read()\n",
    "    img=cv.flip(img,1)\n",
    "    edge1=cv.Canny(img,100,150)\n",
    "    edge2=cv.Canny(img,150,200)\n",
    "    \n",
    "    cv.imshow('Frame',img)\n",
    "    cv.imshow('edges1',edge1)\n",
    "    cv.imshow('edges2',edge2)\n",
    "    \n",
    "    if cv.waitKey(10)==27:\n",
    "        cam.release()\n",
    "        break\n",
    "\n",
    "cam.release()\n",
    "cv.destroyAllWindows()"
   ]
  },
  {
   "cell_type": "code",
   "execution_count": null,
   "id": "18889e72-842e-47f4-a39c-d9589abcc191",
   "metadata": {},
   "outputs": [],
   "source": []
  }
 ],
 "metadata": {
  "kernelspec": {
   "display_name": "Python 3 (ipykernel)",
   "language": "python",
   "name": "python3"
  },
  "language_info": {
   "codemirror_mode": {
    "name": "ipython",
    "version": 3
   },
   "file_extension": ".py",
   "mimetype": "text/x-python",
   "name": "python",
   "nbconvert_exporter": "python",
   "pygments_lexer": "ipython3",
   "version": "3.12.4"
  }
 },
 "nbformat": 4,
 "nbformat_minor": 5
}
