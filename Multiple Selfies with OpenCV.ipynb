{
 "cells": [
  {
   "cell_type": "code",
   "execution_count": 3,
   "id": "9ab2d1de-030d-4833-9dfd-e21a91732146",
   "metadata": {},
   "outputs": [],
   "source": [
    "import cv2 as cv\n",
    "cam = cv.VideoCapture(0)\n",
    "\n",
    "c = 1\n",
    "\n",
    "while True:\n",
    "\n",
    "    _, img = cam.read()\n",
    "    \n",
    "    img = cv.flip(img, 1) \n",
    "   \n",
    "    cv.imshow(\"Frame\",img)\n",
    "    \n",
    "    key = cv.waitKey(30)\n",
    "    \n",
    "    if (key == 13):     # Click selfie if Enter is pressed\n",
    "        cv.imwrite('Selfie/Selfie_' + str(c) + '.png', img) #Dynaic Name given to Each new selfie\n",
    "        c += 1\n",
    "    \n",
    "    \n",
    "    if (key == 27):  # Terminate the program if Escape is Pressed\n",
    "        cam.release()\n",
    "        break\n",
    "\n",
    "cam.release()\n",
    "cv.destroyAllWindows()"
   ]
  }
 ],
 "metadata": {
  "kernelspec": {
   "display_name": "Python 3 (ipykernel)",
   "language": "python",
   "name": "python3"
  },
  "language_info": {
   "codemirror_mode": {
    "name": "ipython",
    "version": 3
   },
   "file_extension": ".py",
   "mimetype": "text/x-python",
   "name": "python",
   "nbconvert_exporter": "python",
   "pygments_lexer": "ipython3",
   "version": "3.12.4"
  }
 },
 "nbformat": 4,
 "nbformat_minor": 5
}
